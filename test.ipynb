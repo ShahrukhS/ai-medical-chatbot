{
 "cells": [
  {
   "cell_type": "code",
   "execution_count": 1,
   "id": "daba837f",
   "metadata": {},
   "outputs": [
    {
     "name": "stdout",
     "output_type": "stream",
     "text": [
      "13\n"
     ]
    }
   ],
   "source": [
    "nlist = [1,2,13,4,5]\n",
    "\n",
    "max = 0\n",
    "for n in nlist:\n",
    "    if n > max:\n",
    "        max = n\n",
    "print(max)"
   ]
  },
  {
   "cell_type": "code",
   "execution_count": 2,
   "id": "c3afbf28",
   "metadata": {},
   "outputs": [
    {
     "data": {
      "text/plain": [
       "'olleh'"
      ]
     },
     "execution_count": 2,
     "metadata": {},
     "output_type": "execute_result"
    }
   ],
   "source": [
    "hi = \"hello\"\n",
    "hi[::-1]"
   ]
  },
  {
   "cell_type": "code",
   "execution_count": 11,
   "id": "7f135dff",
   "metadata": {},
   "outputs": [
    {
     "data": {
      "text/plain": [
       "'h, e, l, l, o'"
      ]
     },
     "execution_count": 11,
     "metadata": {},
     "output_type": "execute_result"
    }
   ],
   "source": [
    "comma = (', '.join(c for c in hi))\n",
    "comma"
   ]
  },
  {
   "cell_type": "code",
   "execution_count": null,
   "id": "053637b5",
   "metadata": {},
   "outputs": [
    {
     "name": "stdout",
     "output_type": "stream",
     "text": [
      "[1, 2, 3, 4, 5, 6, 7, 8, 9]\n"
     ]
    }
   ],
   "source": [
    "lst1 = [1, 2, 3]\n",
    "lst2 = [4, 5, 6, 7, 8, 9]"
   ]
  },
  {
   "cell_type": "code",
   "execution_count": null,
   "id": "a4e9f0b9",
   "metadata": {},
   "outputs": [],
   "source": [
    "# Add corresponding elements and append remaining elements from the longer list\n",
    "min_len = min(len(lst1), len(lst2))\n",
    "result = [lst1[i] + lst2[i] for i in range(min_len)]\n",
    "if len(lst1) > len(lst2):\n",
    "    result.extend(lst1[min_len:])\n",
    "else:\n",
    "    result.extend(lst2[min_len:])\n",
    "result"
   ]
  },
  {
   "cell_type": "code",
   "execution_count": 13,
   "id": "42958b9c",
   "metadata": {},
   "outputs": [
    {
     "name": "stdout",
     "output_type": "stream",
     "text": [
      "['L', 'I', 'S', 'T', 'E', 'N']\n",
      "['S', 'I', 'L', 'E', 'N', 'T']\n"
     ]
    }
   ],
   "source": [
    "str1 = \"Listen\"\n",
    "str2 = \"Silent\"\n",
    "\n",
    "str1 = list(str1.upper())\n",
    "str2 = list(str2.upper())\n",
    "\n",
    "print(str1)\n",
    "print(str2)"
   ]
  },
  {
   "cell_type": "code",
   "execution_count": 16,
   "id": "602fab35",
   "metadata": {},
   "outputs": [
    {
     "name": "stdout",
     "output_type": "stream",
     "text": [
      "[1, 2, '3']\n",
      "<class 'int'>\n",
      "<class 'int'>\n",
      "<class 'str'>\n"
     ]
    }
   ],
   "source": [
    "lst1 = [1, 2, \"3\"]\n",
    "print(lst1)\n",
    "\n",
    "for i in lst1:\n",
    "    print(type(i))"
   ]
  },
  {
   "cell_type": "code",
   "execution_count": 19,
   "id": "3b5cd4a8",
   "metadata": {},
   "outputs": [
    {
     "name": "stdout",
     "output_type": "stream",
     "text": [
      "1.00\n"
     ]
    }
   ],
   "source": [
    "print(f\"{lst1[0]:.2f}\")"
   ]
  }
 ],
 "metadata": {
  "kernelspec": {
   "display_name": "Python 3",
   "language": "python",
   "name": "python3"
  },
  "language_info": {
   "codemirror_mode": {
    "name": "ipython",
    "version": 3
   },
   "file_extension": ".py",
   "mimetype": "text/x-python",
   "name": "python",
   "nbconvert_exporter": "python",
   "pygments_lexer": "ipython3",
   "version": "3.12.4"
  }
 },
 "nbformat": 4,
 "nbformat_minor": 5
}
